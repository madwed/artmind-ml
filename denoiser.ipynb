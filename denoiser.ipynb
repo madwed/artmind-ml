{
 "cells": [
  {
   "cell_type": "code",
   "execution_count": 1,
   "metadata": {
    "collapsed": false
   },
   "outputs": [],
   "source": [
    "import tensorflow as tf\n",
    "from tensorflow.contrib.losses import mean_squared_error\n",
    "import numpy as np\n",
    "import noisy_mark_dataset\n",
    "from math import floor\n",
    "from datetime import datetime\n"
   ]
  },
  {
   "cell_type": "code",
   "execution_count": 2,
   "metadata": {
    "collapsed": false
   },
   "outputs": [
    {
     "name": "stdout",
     "output_type": "stream",
     "text": [
      "Loading data...\n",
      "Data loaded in 0:00:07.564910 seconds\n"
     ]
    }
   ],
   "source": [
    "start = datetime.now()\n",
    "print('Loading data...')\n",
    "\n",
    "data_sets = noisy_mark_dataset.load()\n",
    "\n",
    "elapsed = datetime.now() - start\n",
    "\n",
    "print('Data loaded in {} seconds'.format(elapsed))"
   ]
  },
  {
   "cell_type": "code",
   "execution_count": 3,
   "metadata": {
    "collapsed": false
   },
   "outputs": [],
   "source": [
    "SIZE = 100 * 100\n",
    "PART_SIZE = 50\n",
    "x = tf.placeholder(tf.float32, [None, SIZE])\n",
    "\n",
    "W1 = tf.Variable(tf.zeros([SIZE, PART_SIZE]))\n",
    "b1 = tf.Variable(tf.zeros([PART_SIZE]))\n",
    "h = tf.sigmoid(tf.matmul(x, W1) + b1)\n",
    "\n",
    "W2 = tf.Variable(tf.zeros([PART_SIZE, SIZE]))\n",
    "b2 = tf.Variable(tf.zeros([SIZE]))\n",
    "y = tf.sigmoid(tf.matmul(h, W2) + b2)\n",
    "\n",
    "y_ = tf.placeholder(tf.float32, [None, SIZE])"
   ]
  },
  {
   "cell_type": "code",
   "execution_count": 4,
   "metadata": {
    "collapsed": false
   },
   "outputs": [],
   "source": [
    "beta = 1.0\n",
    "rho = 0.1\n",
    "lmbd = 0.03\n",
    "\n",
    "\n",
    "def squared_frobenius_norm(tensor):\n",
    "    with tf.name_scope(\"squared_frobenius_norm\"):\n",
    "        squares = tf.square(tensor)\n",
    "        squared_frobenius = tf.reduce_sum(squares)\n",
    "        return squared_frobenius\n",
    "    \n",
    "def kullback_leibler(tensor):\n",
    "    with tf.name_scope(\"kullback_leibler_divergence\"):\n",
    "        shape = tensor.get_shape()\n",
    "        N = shape[0]\n",
    "        K = shape[1]\n",
    "        \n",
    "        total = 0\n",
    "        for k in range(K):\n",
    "            rho_j = tf.reduce_mean(tf.slice(tensor, [0, k], [-1, 1]))\n",
    "            kl = rho * tf.log(rho / rho_j) + (1 - rho) * tf.log((1 - rho) / (1 - rho_j))\n",
    "            total += kl\n",
    "            \n",
    "        return total"
   ]
  },
  {
   "cell_type": "code",
   "execution_count": 5,
   "metadata": {
    "collapsed": false
   },
   "outputs": [],
   "source": [
    "mean_squared_loss = mean_squared_error(labels=y_, predictions=y)\n",
    "regularization = (lmbd / 2) * (squared_frobenius_norm(W1) + squared_frobenius_norm(W2))\n",
    "kl_divergence = kullback_leibler(h)\n",
    "\n",
    "loss = mean_squared_loss + beta * kl_divergence + regularization"
   ]
  },
  {
   "cell_type": "code",
   "execution_count": 6,
   "metadata": {
    "collapsed": false
   },
   "outputs": [
    {
     "name": "stdout",
     "output_type": "stream",
     "text": [
      "Epoch 0\n",
      "673.662\n",
      "Epoch 1\n",
      "3990.55\n",
      "Epoch 2\n",
      "308.311\n",
      "Epoch 3\n",
      "1826.42\n",
      "Epoch 4\n",
      "147.969\n",
      "Epoch 5\n",
      "302.485\n",
      "Epoch 6\n",
      "164.565\n",
      "Epoch 7\n",
      "161.948\n",
      "Epoch 8\n",
      "173.255\n",
      "Epoch 9\n",
      "3647.67\n",
      "Epoch 10\n",
      "269.646\n",
      "Epoch 11\n",
      "2567.66\n",
      "Epoch 12\n",
      "416.074\n",
      "Epoch 13\n",
      "325.777\n",
      "Epoch 14\n",
      "1792.4\n"
     ]
    }
   ],
   "source": [
    "train_step = tf.train.GradientDescentOptimizer(9.0).minimize(loss)\n",
    "\n",
    "sess = tf.InteractiveSession()\n",
    "tf.global_variables_initializer().run()\n",
    "\n",
    "train_marks = data_sets.train.marks()\n",
    "\n",
    "# Train\n",
    "epochs = 15\n",
    "batch_size = 50\n",
    "batches = floor(len(data_sets.train.marks()) / batch_size)\n",
    "\n",
    "train = data_sets.train\n",
    "test_noises = data_sets.test.noisy()\n",
    "test_marks = data_sets.test.marks()\n",
    "\n",
    "for epoch in range(epochs):\n",
    "    for batch in range(batches):\n",
    "        batch_noises, batch_marks = train.next_batch(batch_size)\n",
    "        sess.run(train_step, feed_dict={ x: batch_noises, y_: batch_marks })\n",
    "    \n",
    "    print('Epoch {}'.format(epoch))\n",
    "    print(sess.run(loss, feed_dict={ x: test_noises, y_: test_marks }))\n",
    "    \n",
    "\n",
    "# print(sess.run(y, feed_dict={ x: test_noises, y_: test_marks }))"
   ]
  },
  {
   "cell_type": "code",
   "execution_count": null,
   "metadata": {
    "collapsed": true
   },
   "outputs": [],
   "source": [
    "###### W/ KL Divergence\n",
    "#### Learning Rate 9.0\n",
    "### 0 Noise, SIZE 100 * 100\n",
    "## lambda 0.03\n",
    "# 26682.3 - 5119.43, 50 * 50"
   ]
  },
  {
   "cell_type": "code",
   "execution_count": 7,
   "metadata": {
    "collapsed": false
   },
   "outputs": [],
   "source": [
    "###### No KL Divergence in Loss\n",
    "#### Learning Rate 9.0\n",
    "### 0 Noise, SIZE 100 * 100\n",
    "## lambda 0.3\n",
    "# 6.45e+06 - 6.33e+12, 50 * 50\n",
    "## lambda 0.03\n",
    "# 131.964 - 131.85, 50 * 50\n",
    "\n",
    "#### Learning Rate 3.0\n",
    "### 0 Noise, SIZE 100 * 100\n",
    "## lambda 1.0\n",
    "# 1.818e+07 - 1.22e+15, 50 * 50\n",
    "## lambda 0.3\n",
    "# 132.386 - 132.668, 50 * 50\n",
    "\n",
    "#### Learning Rate 1.0\n",
    "### Noise 1/20, 0-54 values, SIZE 100 * 100\n",
    "## lambda 0.5\n",
    "# 132.262 - 132.231, no constriction\n",
    "# 132.21 - 132.2, 50 * 50\n",
    "# 132.158 - 132.157, 50\n",
    "# 132.159 - 132.16, 5\n",
    "## lambda 0.1\n",
    "# 131.964 - 131.976, 50 * 50\n",
    "### Noise 1/3, 0-150 values, SIZE 100 * 100\n",
    "## lambda 0.1\n",
    "# 131.97 - 131.97, 50 * 50\n",
    "### 0 Noise, SIZE 100 * 100\n",
    "## lambda 1.0\n",
    "# 132.259 - 132.246, 50 * 50\n",
    "## lambda 0.1\n",
    "# 131.797 - 131.802, no constriction\n",
    "# 131.97 - 131.977, 50 * 50\n",
    "# 132.036 - 132.045, 50 * 50\n",
    "## lambda 0.03\n",
    "# 131.569 - 131.558, no constriction\n",
    "# 131.809 - 131.751, 50 * 50\n",
    "# 131.808 - 131.748, 50 * 50"
   ]
  }
 ],
 "metadata": {
  "kernelspec": {
   "display_name": "Python 3",
   "language": "python",
   "name": "python3"
  },
  "language_info": {
   "codemirror_mode": {
    "name": "ipython",
    "version": 3
   },
   "file_extension": ".py",
   "mimetype": "text/x-python",
   "name": "python",
   "nbconvert_exporter": "python",
   "pygments_lexer": "ipython3",
   "version": "3.5.2"
  }
 },
 "nbformat": 4,
 "nbformat_minor": 1
}
